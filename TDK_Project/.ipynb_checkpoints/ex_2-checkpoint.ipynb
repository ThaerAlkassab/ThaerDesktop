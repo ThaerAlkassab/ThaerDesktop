{
 "cells": [
  {
   "cell_type": "markdown",
   "metadata": {},
   "source": [
    "##### Supported dictionaries\n",
    "###### DICT_EDUCALINGO: Meaning, synonym, translation for all languages\n",
    "###### DICT_SYNONYMCOM: Synonyms and Antonyms (English)\n",
    "###### DICT_THESAURUS: Synonyms (English)\n",
    "###### DICT_WORDNET: Meanings (English)"
   ]
  },
  {
   "cell_type": "markdown",
   "metadata": {},
   "source": [
    "# the start of the project building"
   ]
  },
  {
   "cell_type": "code",
   "execution_count": 23,
   "metadata": {},
   "outputs": [],
   "source": [
    "from ipywidgets import widgets\n",
    "from PyMultiDictionary import MultiDictionary\n",
    "from PyMultiDictionary import DICT_WORDNET\n",
    "from PyMultiDictionary import DICT_EDUCALINGO\n",
    "from IPython.display import clear_output"
   ]
  },
  {
   "cell_type": "code",
   "execution_count": 26,
   "metadata": {},
   "outputs": [
    {
     "name": "stderr",
     "output_type": "stream",
     "text": [
      "C:\\Users\\abedall_bz\\AppData\\Local\\Temp\\ipykernel_7848\\2361102561.py:32: DeprecationWarning: on_submit is deprecated. Instead, set the .continuous_update attribute to False and observe the value changing with: mywidget.observe(callback, 'value').\n",
      "  text_input.on_submit(on_text_submit)\n"
     ]
    },
    {
     "data": {
      "application/vnd.jupyter.widget-view+json": {
       "model_id": "e003c9f7e1e0440ba051573c46bf7f91",
       "version_major": 2,
       "version_minor": 0
      },
      "text/plain": [
       "Dropdown(description='Select a Language:', options=('Choose Language', 'German (de)', 'French (fr)'), value='C…"
      ]
     },
     "metadata": {},
     "output_type": "display_data"
    },
    {
     "data": {
      "application/vnd.jupyter.widget-view+json": {
       "model_id": "eca4b1a42dda483e884b8a91ac12706c",
       "version_major": 2,
       "version_minor": 0
      },
      "text/plain": [
       "Text(value='', description='Enter a Word:')"
      ]
     },
     "metadata": {},
     "output_type": "display_data"
    },
    {
     "name": "stdout",
     "output_type": "stream",
     "text": [
      "Selected Language Code: de\n",
      "Entered Word: hause\n",
      "([], '', '')\n",
      "Entered Word: haus\n",
      "(['Noun'], 'Building that serves people for living Buildings that have been built for a specific purpose Apartment, home in which someone lives permanently All the inhabitants of the house Totality of people who are in a particular function in a particular house, are active there Family Household, Economy, household of a family dynasty, gender person, human zodiacal sign in its assignment to a planet one of the twelve sections into which the zodiac is divided. Buildings that help people to live © MEV Verlag, Augsburg © MEV Verlag, AugsburgExamplesA large, small, old, multi-storey, twisted Hausarmselige, simple, depraved, dilapidated, modern houses, the house of his parents, the house is on us, in other hands over build a house , set up, live in, rent a house, buy a house remodel, remodel have own house, ownhome, house by house, lead their guests through the whole house, live in the parental home janitor chased the playing children out of the house, the paternal house. Gebäude, das Menschen zum Wohnen dient Gebäude, das zu einem bestimmten Zweck errichtet wurde Wohnung, Heim, in dem jemand ständig lebt Gesamtheit der Hausbewohner Gesamtheit von Personen, die sich in einer bestimmten Funktion in einem bestimmten Haus aufhalten, dort tätig sind Familie Haushalt, Wirtschaft, Hauswesen einer Familie Dynastie, geschlecht Person, Mensch Tierkreiszeichen in seiner Zuordnung zu einem Planeten einer der zwölf Abschnitte, in die der Tierkreis eingeteilt ist. Gebäude, das Menschen zum Wohnen dient©\\xa0MEV Verlag, Augsburg©\\xa0MEV Verlag, AugsburgBeispieleein großes, kleines, altes, mehrstöckiges, verwinkeltes Hausarmselige, einfache, verkommene, baufällige, moderne Häuserdas Haus seiner Elterndas Haus ist auf uns, in andere Hände übergegangenein Haus bauen, einrichten, beziehen, bewohnenein Haus mieten, kaufenein Haus renovieren, umbauenein eigenes Haus haben, besitzenHaus an Haus wohnensie führten ihre Gäste durch das ganze Hausim elterlichen Haus wohnender Hausmeister jagte die spielenden Kinder aus dem Hausdas väterliche Haus.', '')\n"
     ]
    }
   ],
   "source": [
    "md = MultiDictionary()\n",
    "\n",
    "lang = ['Choose Language', 'German (de)', 'French (fr)']\n",
    "\n",
    "dropdown = widgets.Dropdown(options=lang, description='Select a Language:')\n",
    "text_input = widgets.Text(description='Enter a Word:')\n",
    "\n",
    "# Define variables to store language code and entered word\n",
    "code = None\n",
    "word = None\n",
    "\n",
    "def extract_language_code(option):\n",
    "    # Extract the two-letter code from the option\n",
    "    code = option.split('(')[-1].strip(')')\n",
    "    return code\n",
    "\n",
    "def on_change(change):\n",
    "    global code  # Declare code as global to modify its value within the function\n",
    "    if change['type'] == 'change' and change['name'] == 'value':\n",
    "        selected_lang = change['new']\n",
    "        code = extract_language_code(selected_lang)\n",
    "        print(\"Selected Language Code:\", code)\n",
    "\n",
    "def on_text_submit(text):\n",
    "    global word  # Declare word as global to modify its value within the function\n",
    "    word = text.value\n",
    "    print(\"Entered Word:\", word)\n",
    "    \n",
    "    print(md.meaning(code, word))\n",
    "\n",
    "dropdown.observe(on_change)\n",
    "text_input.on_submit(on_text_submit)\n",
    "\n",
    "display(dropdown)\n",
    "display(text_input)\n"
   ]
  },
  {
   "cell_type": "code",
   "execution_count": null,
   "metadata": {},
   "outputs": [],
   "source": []
  }
 ],
 "metadata": {
  "kernelspec": {
   "display_name": "Python 3 (ipykernel)",
   "language": "python",
   "name": "python3"
  },
  "language_info": {
   "codemirror_mode": {
    "name": "ipython",
    "version": 3
   },
   "file_extension": ".py",
   "mimetype": "text/x-python",
   "name": "python",
   "nbconvert_exporter": "python",
   "pygments_lexer": "ipython3",
   "version": "3.11.5"
  }
 },
 "nbformat": 4,
 "nbformat_minor": 2
}
