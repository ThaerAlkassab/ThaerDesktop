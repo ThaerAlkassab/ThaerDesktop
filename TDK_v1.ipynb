{
  "nbformat": 4,
  "nbformat_minor": 0,
  "metadata": {
    "colab": {
      "provenance": [],
      "authorship_tag": "ABX9TyNhBsDw73VgUXasH1SGlUMh",
      "include_colab_link": true
    },
    "kernelspec": {
      "name": "python3",
      "display_name": "Python 3"
    },
    "language_info": {
      "name": "python"
    },
    "widgets": {
      "application/vnd.jupyter.widget-state+json": {
        "227087b281d8472593aa82a126ac9254": {
          "model_module": "@jupyter-widgets/controls",
          "model_name": "DropdownModel",
          "model_module_version": "1.5.0",
          "state": {
            "_dom_classes": [],
            "_model_module": "@jupyter-widgets/controls",
            "_model_module_version": "1.5.0",
            "_model_name": "DropdownModel",
            "_options_labels": [
              "Choose Language",
              "English (en)",
              "German (de)",
              "French (fr)"
            ],
            "_view_count": null,
            "_view_module": "@jupyter-widgets/controls",
            "_view_module_version": "1.5.0",
            "_view_name": "DropdownView",
            "description": "Select a Language:",
            "description_tooltip": null,
            "disabled": false,
            "index": 3,
            "layout": "IPY_MODEL_6ff2be1e40b14c4db1403689a79cfc5c",
            "style": "IPY_MODEL_a1a4816b76d9451f9c1ab04718d64d2a"
          }
        },
        "6ff2be1e40b14c4db1403689a79cfc5c": {
          "model_module": "@jupyter-widgets/base",
          "model_name": "LayoutModel",
          "model_module_version": "1.2.0",
          "state": {
            "_model_module": "@jupyter-widgets/base",
            "_model_module_version": "1.2.0",
            "_model_name": "LayoutModel",
            "_view_count": null,
            "_view_module": "@jupyter-widgets/base",
            "_view_module_version": "1.2.0",
            "_view_name": "LayoutView",
            "align_content": null,
            "align_items": null,
            "align_self": null,
            "border": null,
            "bottom": null,
            "display": null,
            "flex": null,
            "flex_flow": null,
            "grid_area": null,
            "grid_auto_columns": null,
            "grid_auto_flow": null,
            "grid_auto_rows": null,
            "grid_column": null,
            "grid_gap": null,
            "grid_row": null,
            "grid_template_areas": null,
            "grid_template_columns": null,
            "grid_template_rows": null,
            "height": null,
            "justify_content": null,
            "justify_items": null,
            "left": null,
            "margin": null,
            "max_height": null,
            "max_width": null,
            "min_height": null,
            "min_width": null,
            "object_fit": null,
            "object_position": null,
            "order": null,
            "overflow": null,
            "overflow_x": null,
            "overflow_y": null,
            "padding": null,
            "right": null,
            "top": null,
            "visibility": null,
            "width": null
          }
        },
        "a1a4816b76d9451f9c1ab04718d64d2a": {
          "model_module": "@jupyter-widgets/controls",
          "model_name": "DescriptionStyleModel",
          "model_module_version": "1.5.0",
          "state": {
            "_model_module": "@jupyter-widgets/controls",
            "_model_module_version": "1.5.0",
            "_model_name": "DescriptionStyleModel",
            "_view_count": null,
            "_view_module": "@jupyter-widgets/base",
            "_view_module_version": "1.2.0",
            "_view_name": "StyleView",
            "description_width": ""
          }
        },
        "32fbb3c0337e4faca43fbe727be75138": {
          "model_module": "@jupyter-widgets/controls",
          "model_name": "TextModel",
          "model_module_version": "1.5.0",
          "state": {
            "_dom_classes": [],
            "_model_module": "@jupyter-widgets/controls",
            "_model_module_version": "1.5.0",
            "_model_name": "TextModel",
            "_view_count": null,
            "_view_module": "@jupyter-widgets/controls",
            "_view_module_version": "1.5.0",
            "_view_name": "TextView",
            "continuous_update": true,
            "description": "Enter a Word:",
            "description_tooltip": null,
            "disabled": false,
            "layout": "IPY_MODEL_a6597c666d29475780960ee39b3398f9",
            "placeholder": "​",
            "style": "IPY_MODEL_8f2ebbfe5b3147bfab53ca1918d95e7f",
            "value": "filles"
          }
        },
        "a6597c666d29475780960ee39b3398f9": {
          "model_module": "@jupyter-widgets/base",
          "model_name": "LayoutModel",
          "model_module_version": "1.2.0",
          "state": {
            "_model_module": "@jupyter-widgets/base",
            "_model_module_version": "1.2.0",
            "_model_name": "LayoutModel",
            "_view_count": null,
            "_view_module": "@jupyter-widgets/base",
            "_view_module_version": "1.2.0",
            "_view_name": "LayoutView",
            "align_content": null,
            "align_items": null,
            "align_self": null,
            "border": null,
            "bottom": null,
            "display": null,
            "flex": null,
            "flex_flow": null,
            "grid_area": null,
            "grid_auto_columns": null,
            "grid_auto_flow": null,
            "grid_auto_rows": null,
            "grid_column": null,
            "grid_gap": null,
            "grid_row": null,
            "grid_template_areas": null,
            "grid_template_columns": null,
            "grid_template_rows": null,
            "height": null,
            "justify_content": null,
            "justify_items": null,
            "left": null,
            "margin": null,
            "max_height": null,
            "max_width": null,
            "min_height": null,
            "min_width": null,
            "object_fit": null,
            "object_position": null,
            "order": null,
            "overflow": null,
            "overflow_x": null,
            "overflow_y": null,
            "padding": null,
            "right": null,
            "top": null,
            "visibility": null,
            "width": null
          }
        },
        "8f2ebbfe5b3147bfab53ca1918d95e7f": {
          "model_module": "@jupyter-widgets/controls",
          "model_name": "DescriptionStyleModel",
          "model_module_version": "1.5.0",
          "state": {
            "_model_module": "@jupyter-widgets/controls",
            "_model_module_version": "1.5.0",
            "_model_name": "DescriptionStyleModel",
            "_view_count": null,
            "_view_module": "@jupyter-widgets/base",
            "_view_module_version": "1.2.0",
            "_view_name": "StyleView",
            "description_width": ""
          }
        }
      }
    }
  },
  "cells": [
    {
      "cell_type": "markdown",
      "metadata": {
        "id": "view-in-github",
        "colab_type": "text"
      },
      "source": [
        "<a href=\"https://colab.research.google.com/github/ThaerAlkassab/ThaerDesktop/blob/main/TDK_v1.ipynb\" target=\"_parent\"><img src=\"https://colab.research.google.com/assets/colab-badge.svg\" alt=\"Open In Colab\"/></a>"
      ]
    },
    {
      "cell_type": "code",
      "source": [
        "!pip install googletrans==4.0.0-rc1\n",
        "!pip install PyMultiDictionary\n",
        "!pip install spacy\n",
        "!python -m spacy download en_core_web_sm"
      ],
      "metadata": {
        "colab": {
          "base_uri": "https://localhost:8080/"
        },
        "id": "FhBVT565yqXF",
        "outputId": "71fe6858-8a2f-4dab-a8dc-f5e810aab08b"
      },
      "execution_count": 1,
      "outputs": [
        {
          "output_type": "stream",
          "name": "stdout",
          "text": [
            "\u001b[38;5;2m✔ Download and installation successful\u001b[0m\n",
            "You can now load the package via spacy.load('de_core_news_sm')\n",
            "\u001b[38;5;3m⚠ Restart to reload dependencies\u001b[0m\n",
            "If you are in a Jupyter or Colab notebook, you may need to restart Python in\n",
            "order to load all the package's dependencies. You can do this by selecting the\n",
            "'Restart kernel' or 'Restart runtime' option.\n"
          ]
        }
      ]
    },
    {
      "cell_type": "code",
      "execution_count": 7,
      "metadata": {
        "id": "BZuLZJt2yg3p"
      },
      "outputs": [],
      "source": [
        "from googletrans import Translator\n",
        "from ipywidgets import widgets\n",
        "from PyMultiDictionary import MultiDictionary\n",
        "from PyMultiDictionary import DICT_WORDNET\n",
        "from PyMultiDictionary import DICT_EDUCALINGO\n",
        "from IPython.display import clear_output\n",
        "import requests\n",
        "from IPython.display import display, Audio, HTML\n",
        "import ipywidgets as widgets\n",
        "import inflect"
      ]
    },
    {
      "cell_type": "code",
      "source": [
        "lang = ['Choose Language','English (en)', 'German (de)', 'French (fr)']\n",
        "dictionary = MultiDictionary()\n",
        "translator = Translator()\n",
        "\n",
        "dropdown = widgets.Dropdown(options=lang, description='Select a Language:')\n",
        "text_input = widgets.Text(description='Enter a Word:')\n",
        "\n",
        "# Define variables to store language code and entered word\n",
        "code = None\n",
        "word = None\n",
        "\n",
        "def extract_language_code(option):\n",
        "    # Extract the two-letter code from the option\n",
        "    code = option.split('(')[-1].strip(')')\n",
        "    return code\n",
        "\n",
        "def on_change(change):\n",
        "    global code  # Declare code as global to modify its value within the function\n",
        "    if change['type'] == 'change' and change['name'] == 'value':\n",
        "        selected_lang = change['new']\n",
        "        code = extract_language_code(selected_lang)\n",
        "        print(\"Selected Language Code:\", code)\n",
        "\n",
        "def on_text_submit(text):\n",
        "    global word  # Declare word as global to modify its value within the function\n",
        "    word = text.value\n",
        "    print(\"Entered Word:\", word)\n",
        "    pronunciations = get_pronunciations(word, language=code)\n",
        "    if pronunciations:\n",
        "        print(\"Pronunciations for\", word)\n",
        "        for idx, pronunciation in enumerate(pronunciations['items']):\n",
        "            audio_url = pronunciation['pathmp3']\n",
        "            try:\n",
        "                display(HTML(f'<audio controls><source src=\"{audio_url}\" type=\"audio/mpeg\"></audio>'))\n",
        "            except Exception as e:\n",
        "                print(\"Error displaying audio:\", e)\n",
        "    else:\n",
        "        print(\"No pronunciations found.\")\n",
        "    if (dictionary.meaning(code, word) == ([], '', '')):\n",
        "      word = translate_and_identify_singular(word, src_lang=code)\n",
        "\n",
        "    print(dictionary.meaning(code, word))\n",
        "\n",
        "\n",
        "def get_pronunciations(word, language='en', sex='m', limit=1, group_in_languages=None):\n",
        "    url = 'https://apifree.forvo.com/key/09a059a0f3086d3ab04454f0dc199531/format/json/action/word-pronunciations/word/'\n",
        "    params = {\n",
        "        'word': word,\n",
        "        'language': language,\n",
        "        'sex': sex,\n",
        "        'limit': limit,\n",
        "        'group-in-languages': group_in_languages\n",
        "    }\n",
        "    response = requests.get(url + word + '/language/' + language + '/sex/' + str(sex) + '/limit/1/')\n",
        "    if response.status_code == 200:\n",
        "        return response.json()\n",
        "    else:\n",
        "        print(\"Error occurred:\", response.text)\n",
        "        return None\n",
        "\n",
        "def find_singular(word, language='en'):\n",
        "    p = inflect.engine()\n",
        "    return p.singular_noun(word) or word\n",
        "\n",
        "def translate_and_identify_singular(word, src_lang='fr', dest_lang='en'):\n",
        "  if (src_lang == 'en'):\n",
        "    return find_singular(word)\n",
        "  translation = translator.translate(word, src=src_lang, dest=dest_lang)\n",
        "  translated_word = translation.text\n",
        "  singular_word = find_singular(translated_word)\n",
        "  translation = translator.translate(singular_word, src=dest_lang, dest=src_lang)\n",
        "  word = translation.text\n",
        "  return word\n",
        "\n",
        "dropdown.observe(on_change)\n",
        "text_input.on_submit(on_text_submit)\n",
        "\n",
        "display(dropdown)\n",
        "display(text_input)\n"
      ],
      "metadata": {
        "colab": {
          "base_uri": "https://localhost:8080/",
          "height": 296,
          "referenced_widgets": [
            "227087b281d8472593aa82a126ac9254",
            "6ff2be1e40b14c4db1403689a79cfc5c",
            "a1a4816b76d9451f9c1ab04718d64d2a",
            "32fbb3c0337e4faca43fbe727be75138",
            "a6597c666d29475780960ee39b3398f9",
            "8f2ebbfe5b3147bfab53ca1918d95e7f"
          ]
        },
        "id": "_qGRQ9XD8MRf",
        "outputId": "534e2513-c57f-4439-d08f-552f00bc46bb"
      },
      "execution_count": 14,
      "outputs": [
        {
          "output_type": "display_data",
          "data": {
            "text/plain": [
              "Dropdown(description='Select a Language:', options=('Choose Language', 'English (en)', 'German (de)', 'French …"
            ],
            "application/vnd.jupyter.widget-view+json": {
              "version_major": 2,
              "version_minor": 0,
              "model_id": "227087b281d8472593aa82a126ac9254"
            }
          },
          "metadata": {}
        },
        {
          "output_type": "display_data",
          "data": {
            "text/plain": [
              "Text(value='', description='Enter a Word:')"
            ],
            "application/vnd.jupyter.widget-view+json": {
              "version_major": 2,
              "version_minor": 0,
              "model_id": "32fbb3c0337e4faca43fbe727be75138"
            }
          },
          "metadata": {}
        },
        {
          "output_type": "stream",
          "name": "stdout",
          "text": [
            "Selected Language Code: de\n",
            "Selected Language Code: fr\n",
            "Entered Word: fill\n",
            "Pronunciations for fill\n",
            "(['Verb'], 'The definition to fill in the dictionary is to fill again something that has been emptied previously. Make something completely full, make something full. La définition de remplir dans le dictionnaire est emplir de nouveau quelque chose qui a été vidé précédemment. Faire que quelque chose soit entièrement plein, rendre plein quelque chose.', '')\n",
            "Entered Word: filles\n",
            "Pronunciations for filles\n"
          ]
        },
        {
          "output_type": "display_data",
          "data": {
            "text/plain": [
              "<IPython.core.display.HTML object>"
            ],
            "text/html": [
              "<audio controls><source src=\"https://apifree.forvo.com/audio/1h1p2e1l2c351p2p393l3a2a2p3g1h2d3i24251b1n2n2b3m262p1g232c1k3e3i2b3l2f2f3m1h2i213f1f1j32342n2q1i1g2c2a3i1f21393d24282f3j1h1o2j3l2k33312p2h3l2c3f1f333i383g2k362o261l23251g211t1t_3o26363j29331p273e3c2p212j2p3a271m3n3k2o3h371t1t\" type=\"audio/mpeg\"></audio>"
            ]
          },
          "metadata": {}
        },
        {
          "output_type": "stream",
          "name": "stdout",
          "text": [
            "(['Noun'], 'The definition of girl in the dictionary is female, considered from the point of view of her descent, of her origin. Female person considered in relation to her father and / or mother. La définition de fille dans le dictionnaire est personne du sexe féminin, considérée du point de vue de son ascendance, de son origine. Personne du sexe féminin considérée par rapport à son père et/ou à sa mère.', '')\n"
          ]
        }
      ]
    },
    {
      "cell_type": "code",
      "source": [],
      "metadata": {
        "id": "PBgaDgEfF6aE"
      },
      "execution_count": null,
      "outputs": []
    }
  ]
}