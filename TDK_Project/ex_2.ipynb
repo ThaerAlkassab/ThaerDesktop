{
 "cells": [
  {
   "cell_type": "markdown",
   "metadata": {},
   "source": [
    "##### Supported dictionaries\n",
    "###### DICT_EDUCALINGO: Meaning, synonym, translation for all languages\n",
    "###### DICT_SYNONYMCOM: Synonyms and Antonyms (English)\n",
    "###### DICT_THESAURUS: Synonyms (English)\n",
    "###### DICT_WORDNET: Meanings (English)"
   ]
  },
  {
   "cell_type": "markdown",
   "metadata": {},
   "source": [
    "# the start of the project building"
   ]
  },
  {
   "cell_type": "code",
   "execution_count": 13,
   "metadata": {},
   "outputs": [],
   "source": [
    "from ipywidgets import widgets\n",
    "from PyMultiDictionary import MultiDictionary\n",
    "from PyMultiDictionary import DICT_WORDNET\n",
    "from PyMultiDictionary import DICT_EDUCALINGO\n",
    "from IPython.display import clear_output\n",
    "import requests\n",
    "from IPython.display import display, Audio\n",
    "import ipywidgets as widgets"
   ]
  },
  {
   "cell_type": "code",
   "execution_count": 14,
   "metadata": {},
   "outputs": [
    {
     "name": "stderr",
     "output_type": "stream",
     "text": [
      "C:\\Users\\abedall_bz\\AppData\\Local\\Temp\\ipykernel_3972\\1981239587.py:55: DeprecationWarning: on_submit is deprecated. Instead, set the .continuous_update attribute to False and observe the value changing with: mywidget.observe(callback, 'value').\n",
      "  text_input.on_submit(on_text_submit)\n"
     ]
    },
    {
     "data": {
      "application/vnd.jupyter.widget-view+json": {
       "model_id": "13fa3dc3f13e47de8257bd2ee83888b1",
       "version_major": 2,
       "version_minor": 0
      },
      "text/plain": [
       "Dropdown(description='Select a Language:', options=('Choose Language', 'German (de)', 'French (fr)'), value='C…"
      ]
     },
     "metadata": {},
     "output_type": "display_data"
    },
    {
     "data": {
      "application/vnd.jupyter.widget-view+json": {
       "model_id": "9507e71d22104dc1830a0d4e048623e3",
       "version_major": 2,
       "version_minor": 0
      },
      "text/plain": [
       "Text(value='', description='Enter a Word:')"
      ]
     },
     "metadata": {},
     "output_type": "display_data"
    },
    {
     "name": "stdout",
     "output_type": "stream",
     "text": [
      "Selected Language Code: fr\n",
      "Entered Word: Madam\n",
      "Pronunciations for Madam\n"
     ]
    }
   ],
   "source": [
    "lang = ['Choose Language', 'German (de)', 'French (fr)']\n",
    "\n",
    "dropdown = widgets.Dropdown(options=lang, description='Select a Language:')\n",
    "text_input = widgets.Text(description='Enter a Word:')\n",
    "\n",
    "# Define variables to store language code and entered word\n",
    "code = None\n",
    "word = None\n",
    "\n",
    "def extract_language_code(option):\n",
    "    # Extract the two-letter code from the option\n",
    "    code = option.split('(')[-1].strip(')')\n",
    "    return code\n",
    "\n",
    "def on_change(change):\n",
    "    global code  # Declare code as global to modify its value within the function\n",
    "    if change['type'] == 'change' and change['name'] == 'value':\n",
    "        selected_lang = change['new']\n",
    "        code = extract_language_code(selected_lang)\n",
    "        print(\"Selected Language Code:\", code)\n",
    "\n",
    "def on_text_submit(text):\n",
    "    global word  # Declare word as global to modify its value within the function\n",
    "    word = text.value\n",
    "    print(\"Entered Word:\", word)\n",
    "    pronunciations = get_pronunciations(word, language=code)\n",
    "    if pronunciations:\n",
    "        print(\"Pronunciations for\", word)\n",
    "        for idx, pronunciation in enumerate(pronunciations['items']):\n",
    "            audio_url = pronunciation['pathmp3']\n",
    "            try:\n",
    "                display(HTML(f'<audio controls><source src=\"{audio_url}\" type=\"audio/mpeg\"></audio>'))\n",
    "            except Exception as e:\n",
    "                print(\"Error displaying audio:\", e)\n",
    "    else:\n",
    "        print(\"No pronunciations found.\")\n",
    "\n",
    "def get_pronunciations(word, language='en', sex='f', limit=1, group_in_languages=None):\n",
    "    url = 'https://apifree.forvo.com/key/09a059a0f3086d3ab04454f0dc199531/format/json/action/word-pronunciations/word/'\n",
    "    params = {\n",
    "        'word': word,\n",
    "        'language': language,\n",
    "        'sex': sex,\n",
    "        'limit': limit,\n",
    "        'group-in-languages': group_in_languages\n",
    "    }\n",
    "    response = requests.get(url + word + '/language/' + language + '/sex/' + str(sex) + '/limit/1/')\n",
    "    if response.status_code == 200:\n",
    "        return response.json()\n",
    "    else:\n",
    "        print(\"Error occurred:\", response.text)\n",
    "        return None\n",
    "\n",
    "dropdown.observe(on_change)\n",
    "text_input.on_submit(on_text_submit)\n",
    "\n",
    "display(dropdown)\n",
    "display(text_input)"
   ]
  }
 ],
 "metadata": {
  "kernelspec": {
   "display_name": "Python 3 (ipykernel)",
   "language": "python",
   "name": "python3"
  },
  "language_info": {
   "codemirror_mode": {
    "name": "ipython",
    "version": 3
   },
   "file_extension": ".py",
   "mimetype": "text/x-python",
   "name": "python",
   "nbconvert_exporter": "python",
   "pygments_lexer": "ipython3",
   "version": "3.12.2"
  }
 },
 "nbformat": 4,
 "nbformat_minor": 2
}
