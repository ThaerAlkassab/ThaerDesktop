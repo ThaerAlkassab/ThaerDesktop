{
 "cells": [
  {
   "cell_type": "code",
   "execution_count": 1,
   "metadata": {},
   "outputs": [
    {
     "name": "stdout",
     "output_type": "stream",
     "text": [
      "Country Information:\n",
      "Name: United States Minor Outlying Islands\n",
      "Capital: Washington DC\n",
      "Population: 300\n",
      "Region: Americas\n"
     ]
    }
   ],
   "source": [
    "import requests\n",
    "\n",
    "def get_country_info(country_name):\n",
    "    # Define the API endpoint URL\n",
    "    api_url = f\"https://restcountries.com/v3.1/name/{country_name}\"\n",
    "\n",
    "    # Make a GET request to the API\n",
    "    response = requests.get(api_url)\n",
    "\n",
    "    # Check if the request was successful (status code 200)\n",
    "    if response.status_code == 200:\n",
    "        # Print the response data (assuming it's JSON)\n",
    "        country_info = response.json()\n",
    "        print(\"Country Information:\")\n",
    "        print(\"Name:\", country_info[0]['name']['common'])\n",
    "        print(\"Capital:\", country_info[0]['capital'][0])\n",
    "        print(\"Population:\", country_info[0]['population'])\n",
    "        print(\"Region:\", country_info[0]['region'])\n",
    "    else:\n",
    "        # Print an error message if the request was not successful\n",
    "        print(\"Error:\", response.status_code)\n",
    "\n",
    "# Test the function by getting information about a specific country\n",
    "get_country_info(\"United States\")\n"
   ]
  },
  {
   "cell_type": "code",
   "execution_count": null,
   "metadata": {},
   "outputs": [],
   "source": []
  }
 ],
 "metadata": {
  "kernelspec": {
   "display_name": "Python 3",
   "language": "python",
   "name": "python3"
  },
  "language_info": {
   "codemirror_mode": {
    "name": "ipython",
    "version": 3
   },
   "file_extension": ".py",
   "mimetype": "text/x-python",
   "name": "python",
   "nbconvert_exporter": "python",
   "pygments_lexer": "ipython3",
   "version": "3.12.2"
  }
 },
 "nbformat": 4,
 "nbformat_minor": 2
}
