{
 "cells": [
  {
   "cell_type": "code",
   "execution_count": 7,
   "id": "1cdb0014-fe8a-487e-9953-b4cf7ad6e84b",
   "metadata": {},
   "outputs": [
    {
     "name": "stderr",
     "output_type": "stream",
     "text": [
      "Warning : Gmsh has aleady been initialized\n"
     ]
    }
   ],
   "source": [
    "import LowLevelFEM as FEM\n",
    "using LowLevelFEM\n",
    "\n",
    "gmsh.initialize()"
   ]
  },
  {
   "cell_type": "code",
   "execution_count": 8,
   "id": "7e97021c-a838-4a2a-868b-7fffc203080b",
   "metadata": {},
   "outputs": [
    {
     "name": "stdout",
     "output_type": "stream",
     "text": [
      "Info    : Reading 'FEM_kusai.geo'...\n",
      "Info    : Meshing 1D...\n",
      "Info    : [  0%] Meshing curve 1 (Line)\n",
      "Info    : [ 10%] Meshing curve 2 (Line)\n",
      "Info    : [ 20%] Meshing curve 3 (Line)\n",
      "Info    : [ 30%] Meshing curve 4 (Line)\n",
      "Info    : [ 40%] Meshing curve 5 (Circle)\n",
      "Info    : [ 50%] Meshing curve 6 (Circle)\n",
      "Info    : [ 50%] Meshing curve 7 (Circle)\n",
      "Info    : [ 60%] Meshing curve 8 (Circle)\n",
      "Info    : [ 70%] Meshing curve 9 (Circle)\n",
      "Info    : [ 80%] Meshing curve 10 (Circle)\n",
      "Info    : [ 90%] Meshing curve 11 (Circle)\n",
      "Info    : [100%] Meshing curve 12 (Circle)\n",
      "Info    : Done meshing 1D (Wall 0.0050168s, CPU 0s)\n",
      "Info    : Meshing 2D...\n",
      "Info    : Meshing surface 1 (Plane, Frontal-Delaunay)\n",
      "Info    : Done meshing 2D (Wall 2.94778s, CPU 2.875s)\n",
      "Info    : 18130 nodes 36273 elements\n",
      "Info    : Done reading 'FEM_kusai.geo'\n"
     ]
    },
    {
     "data": {
      "text/plain": [
       "(\"body\", 200000.0, 0.3, 7.85e-9)"
      ]
     },
     "execution_count": 8,
     "metadata": {},
     "output_type": "execute_result"
    }
   ],
   "source": [
    "# Load the mesh and define material properties\n",
    "gmsh.open(\"FEM_kusai.geo\")\n",
    "mat = FEM.material(\"body\", E=2.e5, ν=0.3)"
   ]
  },
  {
   "cell_type": "code",
   "execution_count": 9,
   "id": "7de1e08a-5d89-4930-b02e-f6ecccf00301",
   "metadata": {},
   "outputs": [
    {
     "name": "stdout",
     "output_type": "stream",
     "text": [
      "Info    : RCMK renumbering...\n",
      "Info    : Done RCMK renumbering (bandwidth is now 141)\n",
      "Info    : Mapping does not contain a node tag (6) - incrementing after last provided tag (18125)\n"
     ]
    }
   ],
   "source": [
    "# Define boundary conditions\n",
    "problem = FEM.Problem([mat], type=\"PlaneStress\")\n",
    "supp = FEM.displacementConstraint(\"supp\", ux=0, uy=0)\n",
    "left_load = FEM.load(\"left\", fy=-1);  # Assuming q = -1 N/mm^2 for left side\n",
    "right_load = FEM.load(\"right\", fy=1); # Assuming q = 1 N/mm^2 for right side"
   ]
  },
  {
   "cell_type": "code",
   "execution_count": 10,
   "id": "696b3c36-c7af-4fd6-9f46-8c3b151160be",
   "metadata": {},
   "outputs": [
    {
     "data": {
      "text/plain": [
       "36250-element Vector{Float64}:\n",
       "  0.0\n",
       " -0.5\n",
       "  0.0\n",
       "  0.0\n",
       "  0.0\n",
       "  0.0\n",
       "  0.0\n",
       " -1.0\n",
       "  0.0\n",
       " -1.0\n",
       "  0.0\n",
       " -1.0\n",
       "  0.0\n",
       "  ⋮\n",
       "  0.0\n",
       "  0.0\n",
       "  0.0\n",
       "  1.0\n",
       "  0.0\n",
       "  0.0\n",
       "  0.0\n",
       "  0.0\n",
       "  0.0\n",
       "  1.0\n",
       "  0.0\n",
       "  0.5"
      ]
     },
     "execution_count": 10,
     "metadata": {},
     "output_type": "execute_result"
    }
   ],
   "source": [
    "# Assemble stiffness matrix and load vector\n",
    "K = FEM.stiffnessMatrix(problem)\n",
    "f = FEM.loadVector(problem, [left_load, right_load])"
   ]
  },
  {
   "cell_type": "code",
   "execution_count": 11,
   "id": "c9bb4cb4-3149-495f-ab9a-d0f9d442446b",
   "metadata": {},
   "outputs": [
    {
     "ename": "LoadError",
     "evalue": "BoundsError",
     "output_type": "error",
     "traceback": [
      "BoundsError",
      "",
      "Stacktrace:",
      " [1] getindex_cols(A::SparseArrays.SparseMatrixCSC{Float64, Int64}, J::Vector{UInt64})",
      "   @ SparseArrays C:\\Users\\abedall_bz\\.julia\\juliaup\\julia-1.10.2+0.x64.w64.mingw32\\share\\julia\\stdlib\\v1.10\\SparseArrays\\src\\sparsematrix.jl:2703",
      " [2] getindex(A::SparseArrays.SparseMatrixCSC{Float64, Int64}, I::UnitRange{Int64}, J::Vector{UInt64})",
      "   @ SparseArrays C:\\Users\\abedall_bz\\.julia\\juliaup\\julia-1.10.2+0.x64.w64.mingw32\\share\\julia\\stdlib\\v1.10\\SparseArrays\\src\\sparsematrix.jl:2732",
      " [3] getindex",
      "   @ C:\\Users\\abedall_bz\\.julia\\juliaup\\julia-1.10.2+0.x64.w64.mingw32\\share\\julia\\stdlib\\v1.10\\SparseArrays\\src\\sparsematrix.jl:2687 [inlined]",
      " [4] applyBoundaryConditions!(problem::LowLevelFEM.Problem, stiffMat::SparseArrays.SparseMatrixCSC{Float64, Int64}, massMat::SparseArrays.SparseMatrixCSC{Float64, Int64}, dampMat::SparseArrays.SparseMatrixCSC{Float64, Int64}, loadVec::Vector{Float64}, supports::Vector{Tuple{String, Int64, Int64, Complex{Int64}}})",
      "   @ LowLevelFEM C:\\Users\\abedall_bz\\.julia\\packages\\LowLevelFEM\\NKHjw\\src\\LowLevelFEM.jl:637",
      " [5] applyBoundaryConditions!(problem::LowLevelFEM.Problem, stiffMat::SparseArrays.SparseMatrixCSC{Float64, Int64}, loadVec::Vector{Float64}, supports::Vector{Tuple{String, Int64, Int64, Complex{Int64}}})",
      "   @ LowLevelFEM C:\\Users\\abedall_bz\\.julia\\packages\\LowLevelFEM\\NKHjw\\src\\LowLevelFEM.jl:549",
      " [6] top-level scope",
      "   @ In[11]:2"
     ]
    }
   ],
   "source": [
    "# Apply boundary conditions\n",
    "FEM.applyBoundaryConditions!(problem, K, f, [supp])"
   ]
  },
  {
   "cell_type": "code",
   "execution_count": 12,
   "id": "2979ba9b-84f0-49dc-ba45-ab1e7be2e159",
   "metadata": {},
   "outputs": [
    {
     "data": {
      "text/plain": [
       "LowLevelFEM.StressField([[-57.34621823489011; -15.992384690504807; … ; 0.0; 0.0;;], [-15.761826064560438; -2.3475060096153846; … ; 0.0; 0.0;;], [-8.383950034340659; 0.0; … ; 0.0; 0.0;;], [-23.642739096840657; -1.7606295072115383; … ; 0.0; 0.0;;], [-23.81041809752747; 4.695012019230769; … ; 0.0; 0.0;;], [6.87483902815934; -9.390024038461538; … ; 0.0; 0.0;;], [51.14209520947802; -7.62939453125; … ; 0.0; 0.0;;], [-16.36933494400192; 7.869532475104698; … ; 0.0; 0.0;;], [-26.701570867182134; -17.32833110369169; … ; 0.0; 0.0;;], [26.7448006095467; -2.3475060096153846; … ; 0.0; 0.0;;]  …  [18.69096860780821; 8.252950815054087; … ; 0.0; 0.0;;], [-6.707160027472527; -9.390024038461538; … ; 0.0; 0.0;;], [77.71921681833791; 0.0; … ; 0.0; 0.0;;], [-17.438616071428573; 0.0; … ; 0.0; 0.0;;], [3.3535800137362637; 21.12755408653846; … ; 0.0; 0.0;;], [27.49935611263736; -9.390024038461538; … ; 0.0; 0.0;;], [4.695012019230769; -8.216271033653847; … ; 0.0; 0.0;;], [-74.70099480597528; 11.737530048076923; … ; 0.0; 0.0;;], [5.0722897707760985; -0.5868765024038461; … ; 0.0; 0.0;;], [6.3718020260989015; 14.085036057692307; … ; 0.0; 0.0;;]], [329, 330, 331, 332, 333, 334, 335, 336, 337, 338  …  35471, 35472, 35473, 35474, 35475, 35476, 35477, 35478, 35479, 35480], 1)"
      ]
     },
     "execution_count": 12,
     "metadata": {},
     "output_type": "execute_result"
    }
   ],
   "source": [
    "# Solve for displacement and stress\n",
    "q = FEM.solveDisplacement(K, f)\n",
    "S = FEM.solveStress(problem, q)"
   ]
  },
  {
   "cell_type": "code",
   "execution_count": 13,
   "id": "d2059874-0446-4356-9f93-7a0529fc5d17",
   "metadata": {},
   "outputs": [
    {
     "data": {
      "text/plain": [
       "\"uvec..ok\""
      ]
     },
     "metadata": {},
     "output_type": "display_data"
    },
    {
     "data": {
      "text/plain": [
       "\"ux..ok\""
      ]
     },
     "metadata": {},
     "output_type": "display_data"
    },
    {
     "data": {
      "text/plain": [
       "\"uy..ok\""
      ]
     },
     "metadata": {},
     "output_type": "display_data"
    },
    {
     "data": {
      "text/plain": [
       "3"
      ]
     },
     "execution_count": 13,
     "metadata": {},
     "output_type": "execute_result"
    }
   ],
   "source": [
    "# Visualize results\n",
    "u = FEM.showDoFResults(problem, q, \"uvec\", name=\"uvec\", visible=false)\n",
    "ux = FEM.showDoFResults(problem, q, \"ux\", name=\"ux\", visible=false)\n",
    "uy = FEM.showDoFResults(problem, q, \"uy\", name=\"uy\", visible=false)"
   ]
  },
  {
   "cell_type": "code",
   "execution_count": 14,
   "id": "01af0655-39ca-47f8-91e1-22bfab1c073f",
   "metadata": {},
   "outputs": [
    {
     "name": "stdout",
     "output_type": "stream",
     "text": [
      "Info    : Running Plugin(Smooth)...\n",
      "Info    : Done running Plugin(Smooth)\n"
     ]
    },
    {
     "data": {
      "text/plain": [
       "\"s..ok\""
      ]
     },
     "metadata": {},
     "output_type": "display_data"
    },
    {
     "name": "stdout",
     "output_type": "stream",
     "text": [
      "Info    : Running Plugin(Smooth)...\n",
      "Info    : Done running Plugin(Smooth)\n"
     ]
    },
    {
     "data": {
      "text/plain": [
       "\"sx..ok\""
      ]
     },
     "metadata": {},
     "output_type": "display_data"
    },
    {
     "name": "stdout",
     "output_type": "stream",
     "text": [
      "Info    : Running Plugin(Smooth)...\n",
      "Info    : Done running Plugin(Smooth)\n"
     ]
    },
    {
     "data": {
      "text/plain": [
       "\"sy..ok\""
      ]
     },
     "metadata": {},
     "output_type": "display_data"
    },
    {
     "name": "stdout",
     "output_type": "stream",
     "text": [
      "Info    : Running Plugin(Smooth)...\n",
      "Info    : Done running Plugin(Smooth)\n"
     ]
    },
    {
     "data": {
      "text/plain": [
       "\"sxy..ok\""
      ]
     },
     "metadata": {},
     "output_type": "display_data"
    },
    {
     "data": {
      "text/plain": [
       "7"
      ]
     },
     "execution_count": 14,
     "metadata": {},
     "output_type": "execute_result"
    }
   ],
   "source": [
    "s = FEM.showStressResults(problem, S, \"s\", name=\"σ\", visible=true, smooth=true)\n",
    "sx = FEM.showStressResults(problem, S, \"sx\", name=\"σx\", visible=false, smooth=true)\n",
    "sy = FEM.showStressResults(problem, S, \"sy\", name=\"σy\", visible=false, smooth=true)\n",
    "sxy = FEM.showStressResults(problem, S, \"sxy\", name=\"τxy\", visible=false, smooth=true)"
   ]
  },
  {
   "cell_type": "code",
   "execution_count": 15,
   "id": "8c9d7c8d-7473-4c47-881b-1bafd8e32fb6",
   "metadata": {},
   "outputs": [
    {
     "data": {
      "text/plain": [
       "10"
      ]
     },
     "execution_count": 15,
     "metadata": {},
     "output_type": "execute_result"
    }
   ],
   "source": [
    "FEM.plotOnPath(problem, \"path\", sx, 100, name=\"σx\", visible=false)\n",
    "FEM.plotOnPath(problem, \"path\", sxy, 100, name=\"τxy\", visible=false)\n",
    "FEM.plotOnPath(problem, \"path\", ux, 100, name=\"ux\", visible=false)"
   ]
  },
  {
   "cell_type": "code",
   "execution_count": null,
   "id": "6aeff8fc-6843-4889-bb87-80c7280709a5",
   "metadata": {},
   "outputs": [],
   "source": [
    "# Run the visualization\n",
    "gmsh.fltk.run()\n",
    "gmsh.finalize()"
   ]
  },
  {
   "cell_type": "code",
   "execution_count": null,
   "id": "a7a1eaf5-b68f-4f69-b359-d335f2d1d081",
   "metadata": {},
   "outputs": [],
   "source": []
  },
  {
   "cell_type": "code",
   "execution_count": null,
   "id": "ed52e07a-9701-4a17-a231-7af7155070b6",
   "metadata": {},
   "outputs": [],
   "source": []
  }
 ],
 "metadata": {
  "kernelspec": {
   "display_name": "Julia 1.10.2",
   "language": "julia",
   "name": "julia-1.10"
  },
  "language_info": {
   "file_extension": ".jl",
   "mimetype": "application/julia",
   "name": "julia",
   "version": "1.10.2"
  }
 },
 "nbformat": 4,
 "nbformat_minor": 5
}
