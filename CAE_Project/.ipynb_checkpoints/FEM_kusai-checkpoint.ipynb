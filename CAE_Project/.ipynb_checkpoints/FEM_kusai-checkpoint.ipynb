{
 "cells": [
  {
   "cell_type": "code",
   "execution_count": 1,
   "id": "1cdb0014-fe8a-487e-9953-b4cf7ad6e84b",
   "metadata": {},
   "outputs": [],
   "source": [
    "import LowLevelFEM as FEM\n",
    "using LowLevelFEM\n",
    "\n",
    "gmsh.initialize()"
   ]
  },
  {
   "cell_type": "code",
   "execution_count": 2,
   "id": "7e97021c-a838-4a2a-868b-7fffc203080b",
   "metadata": {},
   "outputs": [
    {
     "name": "stdout",
     "output_type": "stream",
     "text": [
      "Info    : Reading 'FEM.geo'...\n",
      "Info    : Meshing 1D...\n",
      "Info    : [  0%] Meshing curve 1 (Line)\n",
      "Info    : [ 20%] Meshing curve 2 (Line)\n",
      "Info    : [ 40%] Meshing curve 3 (Line)\n",
      "Info    : [ 50%] Meshing curve 4 (Line)\n",
      "Info    : [ 70%] Meshing curve 5 (Circle)\n",
      "Info    : [ 90%] Meshing curve 6 (Circle)\n",
      "Info    : Done meshing 1D (Wall 0.121961s, CPU 0s)\n",
      "Info    : Meshing 2D...\n",
      "Info    : Meshing surface 1 (Plane, Frontal-Delaunay)\n",
      "Info    : Done meshing 2D (Wall 3.47285s, CPU 2.89062s)\n",
      "Info    : 21428 nodes 42861 elements\n",
      "Info    : Done reading 'FEM.geo'\n"
     ]
    },
    {
     "data": {
      "text/plain": [
       "(\"body\", 200000.0, 0.3, 7.85e-9)"
      ]
     },
     "execution_count": 2,
     "metadata": {},
     "output_type": "execute_result"
    }
   ],
   "source": [
    "# Load the mesh and define material properties\n",
    "gmsh.open(\"FEM.geo\")\n",
    "mat = FEM.material(\"body\", E=2.e5, ν=0.3)"
   ]
  },
  {
   "cell_type": "code",
   "execution_count": 3,
   "id": "7de1e08a-5d89-4930-b02e-f6ecccf00301",
   "metadata": {},
   "outputs": [
    {
     "name": "stdout",
     "output_type": "stream",
     "text": [
      "Info    : RCMK renumbering...\n",
      "Info    : Done RCMK renumbering (bandwidth is now 147)\n",
      "Info    : Mapping does not contain a node tag (21428) - incrementing after last provided tag (21427)\n"
     ]
    }
   ],
   "source": [
    "# Define boundary conditions\n",
    "problem = FEM.Problem([mat], type=\"PlaneStress\")\n",
    "supp = FEM.displacementConstraint(\"supp\", ux=0, uy=0)\n",
    "left_load = FEM.load(\"Left\", fy=-1);  # Assuming q = -1 N/mm^2 for left side\n",
    "right_load = FEM.load(\"Right\", fy=1); # Assuming q = 1 N/mm^2 for right side"
   ]
  },
  {
   "cell_type": "code",
   "execution_count": 4,
   "id": "696b3c36-c7af-4fd6-9f46-8c3b151160be",
   "metadata": {},
   "outputs": [
    {
     "data": {
      "text/plain": [
       "42854-element Vector{Float64}:\n",
       "  0.0\n",
       "  0.5\n",
       "  0.0\n",
       "  0.0\n",
       "  0.0\n",
       "  0.0\n",
       "  0.0\n",
       "  1.0\n",
       "  0.0\n",
       "  0.0\n",
       "  0.0\n",
       "  0.0\n",
       "  0.0\n",
       "  ⋮\n",
       "  0.0\n",
       "  0.0\n",
       "  0.0\n",
       " -1.0\n",
       "  0.0\n",
       "  0.0\n",
       "  0.0\n",
       "  0.0\n",
       "  0.0\n",
       " -1.0\n",
       "  0.0\n",
       " -0.5"
      ]
     },
     "execution_count": 4,
     "metadata": {},
     "output_type": "execute_result"
    }
   ],
   "source": [
    "# Assemble stiffness matrix and load vector\n",
    "K = FEM.stiffnessMatrix(problem)\n",
    "f = FEM.loadVector(problem, [left_load, right_load])"
   ]
  },
  {
   "cell_type": "code",
   "execution_count": 5,
   "id": "c9bb4cb4-3149-495f-ab9a-d0f9d442446b",
   "metadata": {},
   "outputs": [],
   "source": [
    "# Apply boundary conditions\n",
    "FEM.applyBoundaryConditions!(problem, K, f, [supp])"
   ]
  },
  {
   "cell_type": "code",
   "execution_count": 6,
   "id": "2979ba9b-84f0-49dc-ba45-ab1e7be2e159",
   "metadata": {},
   "outputs": [
    {
     "data": {
      "text/plain": [
       "LowLevelFEM.StressField([[2.8199248951842906; -0.18448140579316186; … ; 0.0; 0.0;;], [-5.150225001384746; 0.49993545535994677; … ; 0.0; 0.0;;], [-3.2906389047338376; 0.008482806069146821; … ; 0.0; 0.0;;], [-2.315490406313843; -0.17993146559388998; … ; 0.0; 0.0;;], [2.873880060640385; 0.10071492100124523; … ; 0.0; 0.0;;], [2.799178356653963; -0.17815339157027935; … ; 0.0; 0.0;;], [5.0673055015658965; -1.7845061120364263; … ; 0.0; 0.0;;], [0.01384662493285721; 1.0097106019702944; … ; 0.0; 0.0;;], [-2.136635274082919; 0.1282652094134719; … ; 0.0; 0.0;;], [-3.7766954374732737; -3.4490093878568517; … ; 0.0; 0.0;;]  …  [1.2343467113121245; 3.9510428495396908; … ; 0.0; 0.0;;], [3.325242390691079; 0.044561695929802886; … ; 0.0; 0.0;;], [0.011806398735705386; 1.1401955644272677; … ; 0.0; 0.0;;], [0.0052224629537540035; 1.0242952389427122; … ; 0.0; 0.0;;], [-0.001418220275302945; 1.0569219399841046; … ; 0.0; 0.0;;], [-1.5938668584737061; -0.18262049244408401; … ; 0.0; 0.0;;], [0.0010974046611305008; 1.0593833521059712; … ; 0.0; 0.0;;], [-0.02439796633989555; 0.9860615030655567; … ; 0.0; 0.0;;], [-0.0033483850832097817; 0.9954997889021501; … ; 0.0; 0.0;;], [0.023182161904063636; 0.9527728669720542; … ; 0.0; 0.0;;]], [361, 362, 363, 364, 365, 366, 367, 368, 369, 370  …  42447, 42448, 42449, 42450, 42451, 42452, 42453, 42454, 42455, 42456], 1)"
      ]
     },
     "execution_count": 6,
     "metadata": {},
     "output_type": "execute_result"
    }
   ],
   "source": [
    "# Solve for displacement and stress\n",
    "q = FEM.solveDisplacement(K, f)\n",
    "S = FEM.solveStress(problem, q)"
   ]
  },
  {
   "cell_type": "code",
   "execution_count": 7,
   "id": "d2059874-0446-4356-9f93-7a0529fc5d17",
   "metadata": {},
   "outputs": [
    {
     "data": {
      "text/plain": [
       "\"uvec..ok\""
      ]
     },
     "metadata": {},
     "output_type": "display_data"
    },
    {
     "data": {
      "text/plain": [
       "\"ux..ok\""
      ]
     },
     "metadata": {},
     "output_type": "display_data"
    },
    {
     "data": {
      "text/plain": [
       "\"uy..ok\""
      ]
     },
     "metadata": {},
     "output_type": "display_data"
    },
    {
     "data": {
      "text/plain": [
       "3"
      ]
     },
     "execution_count": 7,
     "metadata": {},
     "output_type": "execute_result"
    }
   ],
   "source": [
    "# Visualize results\n",
    "u = FEM.showDoFResults(problem, q, \"uvec\", name=\"uvec\", visible=false)\n",
    "ux = FEM.showDoFResults(problem, q, \"ux\", name=\"ux\", visible=false)\n",
    "uy = FEM.showDoFResults(problem, q, \"uy\", name=\"uy\", visible=false)"
   ]
  },
  {
   "cell_type": "code",
   "execution_count": 8,
   "id": "01af0655-39ca-47f8-91e1-22bfab1c073f",
   "metadata": {},
   "outputs": [
    {
     "name": "stdout",
     "output_type": "stream",
     "text": [
      "Info    : Running Plugin(Smooth)...\n",
      "Info    : Done running Plugin(Smooth)\n"
     ]
    },
    {
     "data": {
      "text/plain": [
       "\"s..ok\""
      ]
     },
     "metadata": {},
     "output_type": "display_data"
    },
    {
     "name": "stdout",
     "output_type": "stream",
     "text": [
      "Info    : Running Plugin(Smooth)...\n",
      "Info    : Done running Plugin(Smooth)\n"
     ]
    },
    {
     "data": {
      "text/plain": [
       "\"sx..ok\""
      ]
     },
     "metadata": {},
     "output_type": "display_data"
    },
    {
     "name": "stdout",
     "output_type": "stream",
     "text": [
      "Info    : Running Plugin(Smooth)...\n",
      "Info    : Done running Plugin(Smooth)\n"
     ]
    },
    {
     "data": {
      "text/plain": [
       "\"sy..ok\""
      ]
     },
     "metadata": {},
     "output_type": "display_data"
    },
    {
     "name": "stdout",
     "output_type": "stream",
     "text": [
      "Info    : Running Plugin(Smooth)...\n",
      "Info    : Done running Plugin(Smooth)\n"
     ]
    },
    {
     "data": {
      "text/plain": [
       "\"sxy..ok\""
      ]
     },
     "metadata": {},
     "output_type": "display_data"
    },
    {
     "data": {
      "text/plain": [
       "7"
      ]
     },
     "execution_count": 8,
     "metadata": {},
     "output_type": "execute_result"
    }
   ],
   "source": [
    "s = FEM.showStressResults(problem, S, \"s\", name=\"σ\", visible=true, smooth=true)\n",
    "sx = FEM.showStressResults(problem, S, \"sx\", name=\"σx\", visible=false, smooth=true)\n",
    "sy = FEM.showStressResults(problem, S, \"sy\", name=\"σy\", visible=false, smooth=true)\n",
    "sxy = FEM.showStressResults(problem, S, \"sxy\", name=\"τxy\", visible=false, smooth=true)"
   ]
  },
  {
   "cell_type": "code",
   "execution_count": 9,
   "id": "8c9d7c8d-7473-4c47-881b-1bafd8e32fb6",
   "metadata": {},
   "outputs": [
    {
     "data": {
      "text/plain": [
       "10"
      ]
     },
     "execution_count": 9,
     "metadata": {},
     "output_type": "execute_result"
    }
   ],
   "source": [
    "FEM.plotOnPath(problem, \"path\", sx, 100, name=\"σx\", visible=false)\n",
    "FEM.plotOnPath(problem, \"path\", sxy, 100, name=\"τxy\", visible=false)\n",
    "FEM.plotOnPath(problem, \"path\", ux, 100, name=\"ux\", visible=false)"
   ]
  },
  {
   "cell_type": "code",
   "execution_count": null,
   "id": "6aeff8fc-6843-4889-bb87-80c7280709a5",
   "metadata": {},
   "outputs": [],
   "source": [
    "# Run the visualization\n",
    "gmsh.fltk.run()\n",
    "gmsh.finalize()"
   ]
  },
  {
   "cell_type": "code",
   "execution_count": null,
   "id": "a7a1eaf5-b68f-4f69-b359-d335f2d1d081",
   "metadata": {},
   "outputs": [],
   "source": []
  },
  {
   "cell_type": "code",
   "execution_count": null,
   "id": "ed52e07a-9701-4a17-a231-7af7155070b6",
   "metadata": {},
   "outputs": [],
   "source": []
  }
 ],
 "metadata": {
  "kernelspec": {
   "display_name": "Julia 1.10.2",
   "language": "julia",
   "name": "julia-1.10"
  },
  "language_info": {
   "file_extension": ".jl",
   "mimetype": "application/julia",
   "name": "julia",
   "version": "1.10.2"
  }
 },
 "nbformat": 4,
 "nbformat_minor": 5
}
