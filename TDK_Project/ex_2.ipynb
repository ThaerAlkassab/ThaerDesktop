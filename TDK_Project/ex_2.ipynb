{
 "cells": [
  {
   "cell_type": "markdown",
   "metadata": {},
   "source": [
    "##### Supported dictionaries\n",
    "###### DICT_EDUCALINGO: Meaning, synonym, translation for all languages\n",
    "###### DICT_SYNONYMCOM: Synonyms and Antonyms (English)\n",
    "###### DICT_THESAURUS: Synonyms (English)\n",
    "###### DICT_WORDNET: Meanings (English)"
   ]
  },
  {
   "cell_type": "markdown",
   "metadata": {},
   "source": [
    "# the start of the project building"
   ]
  },
  {
   "cell_type": "code",
   "execution_count": 3,
   "metadata": {},
   "outputs": [],
   "source": [
    "from ipywidgets import widgets\n",
    "from PyMultiDictionary import MultiDictionary as MD\n",
    "from PyMultiDictionary import DICT_WORDNET as DW\n",
    "from PyMultiDictionary import DICT_EDUCALINGO as DE"
   ]
  },
  {
   "cell_type": "code",
   "execution_count": 4,
   "metadata": {},
   "outputs": [],
   "source": [
    "md = MD()\n",
    "\n",
    "word = input('\\nword\\n')\n",
    "\n",
    "lang = ['German (de)', 'French (fr)']\n",
    "\n",
    "dropdown = widgets.Dropdown(options=lang, description='Select a Language:')\n",
    "\n",
    "display(dropdown)\n",
    "\n",
    "selected_lang = dropdown.value\n",
    "\n",
    "print(\"\\nThe Word: \", word)\n",
    "print(\"Selected Language: \", selected_lang)\n",
    "\n"
   ]
  },
  {
   "cell_type": "code",
   "execution_count": null,
   "metadata": {},
   "outputs": [],
   "source": []
  }
 ],
 "metadata": {
  "kernelspec": {
   "display_name": "Python 3",
   "language": "python",
   "name": "python3"
  },
  "language_info": {
   "codemirror_mode": {
    "name": "ipython",
    "version": 3
   },
   "file_extension": ".py",
   "mimetype": "text/x-python",
   "name": "python",
   "nbconvert_exporter": "python",
   "pygments_lexer": "ipython3",
   "version": "3.12.2"
  }
 },
 "nbformat": 4,
 "nbformat_minor": 2
}
