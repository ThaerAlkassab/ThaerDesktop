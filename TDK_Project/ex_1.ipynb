{
 "cells": [
  {
   "cell_type": "code",
   "execution_count": null,
   "metadata": {},
   "outputs": [],
   "source": [
    "import pandas as pd\n",
    "\n",
    "# Step 2: Read the CSV file into a DataFrame\n",
    "file_path = \"your_file_path.csv\"  # Replace 'your_file_path.csv' with the actual file path\n",
    "df = pd.read_csv(file_path, delimiter='\\t', encoding='utf-8')\n",
    "\n",
    "# Step 3: Clean the DataFrame\n",
    "# Remove unnecessary columns\n",
    "df = df.drop(columns=['language', 'corpus'])\n",
    "\n",
    "# Step 4: Display the cleaned DataFrame\n",
    "df.head()  # Display the first few rows to verify cleaning"
   ]
  },
  {
   "cell_type": "code",
   "execution_count": null,
   "metadata": {},
   "outputs": [],
   "source": []
  }
 ],
 "metadata": {
  "language_info": {
   "name": "python"
  }
 },
 "nbformat": 4,
 "nbformat_minor": 2
}
